{
 "cells": [
  {
   "cell_type": "code",
   "execution_count": 1,
   "id": "88dfe08c",
   "metadata": {},
   "outputs": [],
   "source": [
    "import pandas as pd\n",
    "import numpy as np "
   ]
  },
  {
   "cell_type": "code",
   "execution_count": 2,
   "id": "8ff78415",
   "metadata": {},
   "outputs": [
    {
     "name": "stderr",
     "output_type": "stream",
     "text": [
      "C:\\Users\\celia\\AppData\\Local\\Temp\\ipykernel_8200\\2122290227.py:1: DtypeWarning: Columns (8) have mixed types. Specify dtype option on import or set low_memory=False.\n",
      "  data = pd.read_csv('../../Morning/learningSet.csv')\n"
     ]
    }
   ],
   "source": [
    "data = pd.read_csv('../../Morning/learningSet.csv')"
   ]
  },
  {
   "cell_type": "code",
   "execution_count": 3,
   "id": "a8e893f4",
   "metadata": {},
   "outputs": [
    {
     "data": {
      "text/html": [
       "<div>\n",
       "<style scoped>\n",
       "    .dataframe tbody tr th:only-of-type {\n",
       "        vertical-align: middle;\n",
       "    }\n",
       "\n",
       "    .dataframe tbody tr th {\n",
       "        vertical-align: top;\n",
       "    }\n",
       "\n",
       "    .dataframe thead th {\n",
       "        text-align: right;\n",
       "    }\n",
       "</style>\n",
       "<table border=\"1\" class=\"dataframe\">\n",
       "  <thead>\n",
       "    <tr style=\"text-align: right;\">\n",
       "      <th></th>\n",
       "      <th>ODATEDW</th>\n",
       "      <th>TCODE</th>\n",
       "      <th>DOB</th>\n",
       "      <th>AGE</th>\n",
       "      <th>NUMCHLD</th>\n",
       "      <th>INCOME</th>\n",
       "      <th>WEALTH1</th>\n",
       "      <th>HIT</th>\n",
       "      <th>MBCRAFT</th>\n",
       "      <th>MBGARDEN</th>\n",
       "      <th>...</th>\n",
       "      <th>FISTDATE</th>\n",
       "      <th>NEXTDATE</th>\n",
       "      <th>TIMELAG</th>\n",
       "      <th>AVGGIFT</th>\n",
       "      <th>CONTROLN</th>\n",
       "      <th>TARGET_B</th>\n",
       "      <th>TARGET_D</th>\n",
       "      <th>HPHONE_D</th>\n",
       "      <th>RFA_2F</th>\n",
       "      <th>CLUSTER2</th>\n",
       "    </tr>\n",
       "  </thead>\n",
       "  <tbody>\n",
       "    <tr>\n",
       "      <th>0</th>\n",
       "      <td>8901</td>\n",
       "      <td>0</td>\n",
       "      <td>3712</td>\n",
       "      <td>60.0</td>\n",
       "      <td>NaN</td>\n",
       "      <td>NaN</td>\n",
       "      <td>NaN</td>\n",
       "      <td>0</td>\n",
       "      <td>NaN</td>\n",
       "      <td>NaN</td>\n",
       "      <td>...</td>\n",
       "      <td>8911</td>\n",
       "      <td>9003.0</td>\n",
       "      <td>4.0</td>\n",
       "      <td>7.741935</td>\n",
       "      <td>95515</td>\n",
       "      <td>0</td>\n",
       "      <td>0.0</td>\n",
       "      <td>0</td>\n",
       "      <td>4</td>\n",
       "      <td>39.0</td>\n",
       "    </tr>\n",
       "    <tr>\n",
       "      <th>1</th>\n",
       "      <td>9401</td>\n",
       "      <td>1</td>\n",
       "      <td>5202</td>\n",
       "      <td>46.0</td>\n",
       "      <td>1.0</td>\n",
       "      <td>6.0</td>\n",
       "      <td>9.0</td>\n",
       "      <td>16</td>\n",
       "      <td>0.0</td>\n",
       "      <td>0.0</td>\n",
       "      <td>...</td>\n",
       "      <td>9310</td>\n",
       "      <td>9504.0</td>\n",
       "      <td>18.0</td>\n",
       "      <td>15.666667</td>\n",
       "      <td>148535</td>\n",
       "      <td>0</td>\n",
       "      <td>0.0</td>\n",
       "      <td>0</td>\n",
       "      <td>2</td>\n",
       "      <td>1.0</td>\n",
       "    </tr>\n",
       "    <tr>\n",
       "      <th>2</th>\n",
       "      <td>9001</td>\n",
       "      <td>1</td>\n",
       "      <td>0</td>\n",
       "      <td>NaN</td>\n",
       "      <td>NaN</td>\n",
       "      <td>3.0</td>\n",
       "      <td>1.0</td>\n",
       "      <td>2</td>\n",
       "      <td>0.0</td>\n",
       "      <td>0.0</td>\n",
       "      <td>...</td>\n",
       "      <td>9001</td>\n",
       "      <td>9101.0</td>\n",
       "      <td>12.0</td>\n",
       "      <td>7.481481</td>\n",
       "      <td>15078</td>\n",
       "      <td>0</td>\n",
       "      <td>0.0</td>\n",
       "      <td>1</td>\n",
       "      <td>4</td>\n",
       "      <td>60.0</td>\n",
       "    </tr>\n",
       "    <tr>\n",
       "      <th>3</th>\n",
       "      <td>8701</td>\n",
       "      <td>0</td>\n",
       "      <td>2801</td>\n",
       "      <td>70.0</td>\n",
       "      <td>NaN</td>\n",
       "      <td>1.0</td>\n",
       "      <td>4.0</td>\n",
       "      <td>2</td>\n",
       "      <td>0.0</td>\n",
       "      <td>0.0</td>\n",
       "      <td>...</td>\n",
       "      <td>8702</td>\n",
       "      <td>8711.0</td>\n",
       "      <td>9.0</td>\n",
       "      <td>6.812500</td>\n",
       "      <td>172556</td>\n",
       "      <td>0</td>\n",
       "      <td>0.0</td>\n",
       "      <td>1</td>\n",
       "      <td>4</td>\n",
       "      <td>41.0</td>\n",
       "    </tr>\n",
       "    <tr>\n",
       "      <th>4</th>\n",
       "      <td>8601</td>\n",
       "      <td>0</td>\n",
       "      <td>2001</td>\n",
       "      <td>78.0</td>\n",
       "      <td>1.0</td>\n",
       "      <td>3.0</td>\n",
       "      <td>2.0</td>\n",
       "      <td>60</td>\n",
       "      <td>1.0</td>\n",
       "      <td>0.0</td>\n",
       "      <td>...</td>\n",
       "      <td>7903</td>\n",
       "      <td>8005.0</td>\n",
       "      <td>14.0</td>\n",
       "      <td>6.864865</td>\n",
       "      <td>7112</td>\n",
       "      <td>0</td>\n",
       "      <td>0.0</td>\n",
       "      <td>1</td>\n",
       "      <td>2</td>\n",
       "      <td>26.0</td>\n",
       "    </tr>\n",
       "  </tbody>\n",
       "</table>\n",
       "<p>5 rows × 407 columns</p>\n",
       "</div>"
      ],
      "text/plain": [
       "   ODATEDW  TCODE   DOB   AGE  NUMCHLD  INCOME  WEALTH1  HIT  MBCRAFT  \\\n",
       "0     8901      0  3712  60.0      NaN     NaN      NaN    0      NaN   \n",
       "1     9401      1  5202  46.0      1.0     6.0      9.0   16      0.0   \n",
       "2     9001      1     0   NaN      NaN     3.0      1.0    2      0.0   \n",
       "3     8701      0  2801  70.0      NaN     1.0      4.0    2      0.0   \n",
       "4     8601      0  2001  78.0      1.0     3.0      2.0   60      1.0   \n",
       "\n",
       "   MBGARDEN  ...  FISTDATE  NEXTDATE  TIMELAG    AVGGIFT  CONTROLN  TARGET_B  \\\n",
       "0       NaN  ...      8911    9003.0      4.0   7.741935     95515         0   \n",
       "1       0.0  ...      9310    9504.0     18.0  15.666667    148535         0   \n",
       "2       0.0  ...      9001    9101.0     12.0   7.481481     15078         0   \n",
       "3       0.0  ...      8702    8711.0      9.0   6.812500    172556         0   \n",
       "4       0.0  ...      7903    8005.0     14.0   6.864865      7112         0   \n",
       "\n",
       "   TARGET_D  HPHONE_D  RFA_2F  CLUSTER2  \n",
       "0       0.0         0       4      39.0  \n",
       "1       0.0         0       2       1.0  \n",
       "2       0.0         1       4      60.0  \n",
       "3       0.0         1       4      41.0  \n",
       "4       0.0         1       2      26.0  \n",
       "\n",
       "[5 rows x 407 columns]"
      ]
     },
     "execution_count": 3,
     "metadata": {},
     "output_type": "execute_result"
    }
   ],
   "source": [
    "numerical = data.select_dtypes(np.number)\n",
    "numerical.head()"
   ]
  },
  {
   "cell_type": "code",
   "execution_count": 4,
   "id": "d87a3f34",
   "metadata": {},
   "outputs": [
    {
     "data": {
      "text/html": [
       "<div>\n",
       "<style scoped>\n",
       "    .dataframe tbody tr th:only-of-type {\n",
       "        vertical-align: middle;\n",
       "    }\n",
       "\n",
       "    .dataframe tbody tr th {\n",
       "        vertical-align: top;\n",
       "    }\n",
       "\n",
       "    .dataframe thead th {\n",
       "        text-align: right;\n",
       "    }\n",
       "</style>\n",
       "<table border=\"1\" class=\"dataframe\">\n",
       "  <thead>\n",
       "    <tr style=\"text-align: right;\">\n",
       "      <th></th>\n",
       "      <th>OSOURCE</th>\n",
       "      <th>STATE</th>\n",
       "      <th>ZIP</th>\n",
       "      <th>MAILCODE</th>\n",
       "      <th>PVASTATE</th>\n",
       "      <th>NOEXCH</th>\n",
       "      <th>RECINHSE</th>\n",
       "      <th>RECP3</th>\n",
       "      <th>RECPGVG</th>\n",
       "      <th>RECSWEEP</th>\n",
       "      <th>...</th>\n",
       "      <th>RFA_21</th>\n",
       "      <th>RFA_22</th>\n",
       "      <th>RFA_23</th>\n",
       "      <th>RFA_24</th>\n",
       "      <th>RFA_2R</th>\n",
       "      <th>RFA_2A</th>\n",
       "      <th>MDMAUD_R</th>\n",
       "      <th>MDMAUD_F</th>\n",
       "      <th>MDMAUD_A</th>\n",
       "      <th>GEOCODE2</th>\n",
       "    </tr>\n",
       "  </thead>\n",
       "  <tbody>\n",
       "    <tr>\n",
       "      <th>0</th>\n",
       "      <td>GRI</td>\n",
       "      <td>IL</td>\n",
       "      <td>61081</td>\n",
       "      <td></td>\n",
       "      <td></td>\n",
       "      <td>0</td>\n",
       "      <td></td>\n",
       "      <td></td>\n",
       "      <td></td>\n",
       "      <td></td>\n",
       "      <td>...</td>\n",
       "      <td>S4E</td>\n",
       "      <td>S4E</td>\n",
       "      <td>S4E</td>\n",
       "      <td>S4E</td>\n",
       "      <td>L</td>\n",
       "      <td>E</td>\n",
       "      <td>X</td>\n",
       "      <td>X</td>\n",
       "      <td>X</td>\n",
       "      <td>C</td>\n",
       "    </tr>\n",
       "    <tr>\n",
       "      <th>1</th>\n",
       "      <td>BOA</td>\n",
       "      <td>CA</td>\n",
       "      <td>91326</td>\n",
       "      <td></td>\n",
       "      <td></td>\n",
       "      <td>0</td>\n",
       "      <td></td>\n",
       "      <td></td>\n",
       "      <td></td>\n",
       "      <td></td>\n",
       "      <td>...</td>\n",
       "      <td>N1E</td>\n",
       "      <td>N1E</td>\n",
       "      <td></td>\n",
       "      <td>F1E</td>\n",
       "      <td>L</td>\n",
       "      <td>G</td>\n",
       "      <td>X</td>\n",
       "      <td>X</td>\n",
       "      <td>X</td>\n",
       "      <td>A</td>\n",
       "    </tr>\n",
       "    <tr>\n",
       "      <th>2</th>\n",
       "      <td>AMH</td>\n",
       "      <td>NC</td>\n",
       "      <td>27017</td>\n",
       "      <td></td>\n",
       "      <td></td>\n",
       "      <td>0</td>\n",
       "      <td></td>\n",
       "      <td></td>\n",
       "      <td></td>\n",
       "      <td></td>\n",
       "      <td>...</td>\n",
       "      <td></td>\n",
       "      <td>S4D</td>\n",
       "      <td>S4D</td>\n",
       "      <td>S3D</td>\n",
       "      <td>L</td>\n",
       "      <td>E</td>\n",
       "      <td>X</td>\n",
       "      <td>X</td>\n",
       "      <td>X</td>\n",
       "      <td>C</td>\n",
       "    </tr>\n",
       "    <tr>\n",
       "      <th>3</th>\n",
       "      <td>BRY</td>\n",
       "      <td>CA</td>\n",
       "      <td>95953</td>\n",
       "      <td></td>\n",
       "      <td></td>\n",
       "      <td>0</td>\n",
       "      <td></td>\n",
       "      <td></td>\n",
       "      <td></td>\n",
       "      <td></td>\n",
       "      <td>...</td>\n",
       "      <td>A1D</td>\n",
       "      <td>A1D</td>\n",
       "      <td></td>\n",
       "      <td></td>\n",
       "      <td>L</td>\n",
       "      <td>E</td>\n",
       "      <td>X</td>\n",
       "      <td>X</td>\n",
       "      <td>X</td>\n",
       "      <td>C</td>\n",
       "    </tr>\n",
       "    <tr>\n",
       "      <th>4</th>\n",
       "      <td></td>\n",
       "      <td>FL</td>\n",
       "      <td>33176</td>\n",
       "      <td></td>\n",
       "      <td></td>\n",
       "      <td>0</td>\n",
       "      <td>X</td>\n",
       "      <td>X</td>\n",
       "      <td></td>\n",
       "      <td></td>\n",
       "      <td>...</td>\n",
       "      <td>A3D</td>\n",
       "      <td>I4E</td>\n",
       "      <td>A3D</td>\n",
       "      <td>A3D</td>\n",
       "      <td>L</td>\n",
       "      <td>F</td>\n",
       "      <td>X</td>\n",
       "      <td>X</td>\n",
       "      <td>X</td>\n",
       "      <td>A</td>\n",
       "    </tr>\n",
       "  </tbody>\n",
       "</table>\n",
       "<p>5 rows × 74 columns</p>\n",
       "</div>"
      ],
      "text/plain": [
       "  OSOURCE STATE    ZIP MAILCODE PVASTATE NOEXCH RECINHSE RECP3 RECPGVG  \\\n",
       "0     GRI    IL  61081                        0                          \n",
       "1     BOA    CA  91326                        0                          \n",
       "2     AMH    NC  27017                        0                          \n",
       "3     BRY    CA  95953                        0                          \n",
       "4            FL  33176                        0        X     X           \n",
       "\n",
       "  RECSWEEP  ... RFA_21 RFA_22 RFA_23 RFA_24 RFA_2R RFA_2A MDMAUD_R MDMAUD_F  \\\n",
       "0           ...    S4E    S4E    S4E    S4E      L      E        X        X   \n",
       "1           ...    N1E    N1E           F1E      L      G        X        X   \n",
       "2           ...           S4D    S4D    S3D      L      E        X        X   \n",
       "3           ...    A1D    A1D                    L      E        X        X   \n",
       "4           ...    A3D    I4E    A3D    A3D      L      F        X        X   \n",
       "\n",
       "  MDMAUD_A GEOCODE2  \n",
       "0        X        C  \n",
       "1        X        A  \n",
       "2        X        C  \n",
       "3        X        C  \n",
       "4        X        A  \n",
       "\n",
       "[5 rows x 74 columns]"
      ]
     },
     "execution_count": 4,
     "metadata": {},
     "output_type": "execute_result"
    }
   ],
   "source": [
    "categorical = data.select_dtypes('object')\n",
    "categorical.head()"
   ]
  },
  {
   "cell_type": "code",
   "execution_count": 5,
   "id": "a028b312",
   "metadata": {},
   "outputs": [
    {
     "data": {
      "text/plain": [
       "AGE         23665\n",
       "NUMCHLD     83026\n",
       "INCOME      21286\n",
       "WEALTH1     44732\n",
       "MBCRAFT     52854\n",
       "            ...  \n",
       "RAMNT_23    87553\n",
       "RAMNT_24    77674\n",
       "NEXTDATE     9973\n",
       "TIMELAG      9973\n",
       "CLUSTER2      132\n",
       "Length: 91, dtype: int64"
      ]
     },
     "execution_count": 5,
     "metadata": {},
     "output_type": "execute_result"
    }
   ],
   "source": [
    "numerical.isna().sum()[numerical.isna().sum() > 0]"
   ]
  },
  {
   "cell_type": "code",
   "execution_count": 6,
   "id": "9bb2c845",
   "metadata": {},
   "outputs": [
    {
     "data": {
      "text/plain": [
       "['ODATEDW',\n",
       " 'TCODE',\n",
       " 'DOB',\n",
       " 'AGE',\n",
       " 'NUMCHLD',\n",
       " 'INCOME',\n",
       " 'WEALTH1',\n",
       " 'HIT',\n",
       " 'MBCRAFT',\n",
       " 'MBGARDEN',\n",
       " 'MBBOOKS',\n",
       " 'MBCOLECT',\n",
       " 'MAGFAML',\n",
       " 'MAGFEM',\n",
       " 'MAGMALE',\n",
       " 'PUBGARDN',\n",
       " 'PUBCULIN',\n",
       " 'PUBHLTH',\n",
       " 'PUBDOITY',\n",
       " 'PUBNEWFN',\n",
       " 'PUBPHOTO',\n",
       " 'PUBOPP',\n",
       " 'MALEMILI',\n",
       " 'MALEVET',\n",
       " 'VIETVETS',\n",
       " 'WWIIVETS',\n",
       " 'LOCALGOV',\n",
       " 'STATEGOV',\n",
       " 'FEDGOV',\n",
       " 'WEALTH2',\n",
       " 'POP901',\n",
       " 'POP902',\n",
       " 'POP903',\n",
       " 'POP90C1',\n",
       " 'POP90C2',\n",
       " 'POP90C3',\n",
       " 'POP90C4',\n",
       " 'POP90C5',\n",
       " 'ETH1',\n",
       " 'ETH2',\n",
       " 'ETH3',\n",
       " 'ETH4',\n",
       " 'ETH5',\n",
       " 'ETH6',\n",
       " 'ETH7',\n",
       " 'ETH8',\n",
       " 'ETH9',\n",
       " 'ETH10',\n",
       " 'ETH11',\n",
       " 'ETH12',\n",
       " 'ETH13',\n",
       " 'ETH14',\n",
       " 'ETH15',\n",
       " 'ETH16',\n",
       " 'AGE901',\n",
       " 'AGE902',\n",
       " 'AGE903',\n",
       " 'AGE904',\n",
       " 'AGE905',\n",
       " 'AGE906',\n",
       " 'AGE907',\n",
       " 'CHIL1',\n",
       " 'CHIL2',\n",
       " 'CHIL3',\n",
       " 'AGEC1',\n",
       " 'AGEC2',\n",
       " 'AGEC3',\n",
       " 'AGEC4',\n",
       " 'AGEC5',\n",
       " 'AGEC6',\n",
       " 'AGEC7',\n",
       " 'CHILC1',\n",
       " 'CHILC2',\n",
       " 'CHILC3',\n",
       " 'CHILC4',\n",
       " 'CHILC5',\n",
       " 'HHAGE1',\n",
       " 'HHAGE2',\n",
       " 'HHAGE3',\n",
       " 'HHN1',\n",
       " 'HHN2',\n",
       " 'HHN3',\n",
       " 'HHN4',\n",
       " 'HHN5',\n",
       " 'HHN6',\n",
       " 'MARR1',\n",
       " 'MARR2',\n",
       " 'MARR3',\n",
       " 'MARR4',\n",
       " 'HHP1',\n",
       " 'HHP2',\n",
       " 'DW1',\n",
       " 'DW2',\n",
       " 'DW3',\n",
       " 'DW4',\n",
       " 'DW5',\n",
       " 'DW6',\n",
       " 'DW7',\n",
       " 'DW8',\n",
       " 'DW9',\n",
       " 'HV1',\n",
       " 'HV2',\n",
       " 'HV3',\n",
       " 'HV4',\n",
       " 'HU1',\n",
       " 'HU2',\n",
       " 'HU3',\n",
       " 'HU4',\n",
       " 'HU5',\n",
       " 'HHD1',\n",
       " 'HHD2',\n",
       " 'HHD3',\n",
       " 'HHD4',\n",
       " 'HHD5',\n",
       " 'HHD6',\n",
       " 'HHD7',\n",
       " 'HHD8',\n",
       " 'HHD9',\n",
       " 'HHD10',\n",
       " 'HHD11',\n",
       " 'HHD12',\n",
       " 'ETHC1',\n",
       " 'ETHC2',\n",
       " 'ETHC3',\n",
       " 'ETHC4',\n",
       " 'ETHC5',\n",
       " 'ETHC6',\n",
       " 'HVP1',\n",
       " 'HVP2',\n",
       " 'HVP3',\n",
       " 'HVP4',\n",
       " 'HVP5',\n",
       " 'HVP6',\n",
       " 'HUR1',\n",
       " 'HUR2',\n",
       " 'RHP1',\n",
       " 'RHP2',\n",
       " 'RHP3',\n",
       " 'RHP4',\n",
       " 'HUPA1',\n",
       " 'HUPA2',\n",
       " 'HUPA3',\n",
       " 'HUPA4',\n",
       " 'HUPA5',\n",
       " 'HUPA6',\n",
       " 'HUPA7',\n",
       " 'RP1',\n",
       " 'RP2',\n",
       " 'RP3',\n",
       " 'RP4',\n",
       " 'MSA',\n",
       " 'ADI',\n",
       " 'DMA',\n",
       " 'IC1',\n",
       " 'IC2',\n",
       " 'IC3',\n",
       " 'IC4',\n",
       " 'IC5',\n",
       " 'IC6',\n",
       " 'IC7',\n",
       " 'IC8',\n",
       " 'IC9',\n",
       " 'IC10',\n",
       " 'IC11',\n",
       " 'IC12',\n",
       " 'IC13',\n",
       " 'IC14',\n",
       " 'IC15',\n",
       " 'IC16',\n",
       " 'IC17',\n",
       " 'IC18',\n",
       " 'IC19',\n",
       " 'IC20',\n",
       " 'IC21',\n",
       " 'IC22',\n",
       " 'IC23',\n",
       " 'HHAS1',\n",
       " 'HHAS2',\n",
       " 'HHAS3',\n",
       " 'HHAS4',\n",
       " 'MC1',\n",
       " 'MC2',\n",
       " 'MC3',\n",
       " 'TPE1',\n",
       " 'TPE2',\n",
       " 'TPE3',\n",
       " 'TPE4',\n",
       " 'TPE5',\n",
       " 'TPE6',\n",
       " 'TPE7',\n",
       " 'TPE8',\n",
       " 'TPE9',\n",
       " 'PEC1',\n",
       " 'PEC2',\n",
       " 'TPE10',\n",
       " 'TPE11',\n",
       " 'TPE12',\n",
       " 'TPE13',\n",
       " 'LFC1',\n",
       " 'LFC2',\n",
       " 'LFC3',\n",
       " 'LFC4',\n",
       " 'LFC5',\n",
       " 'LFC6',\n",
       " 'LFC7',\n",
       " 'LFC8',\n",
       " 'LFC9',\n",
       " 'LFC10',\n",
       " 'OCC1',\n",
       " 'OCC2',\n",
       " 'OCC3',\n",
       " 'OCC4',\n",
       " 'OCC5',\n",
       " 'OCC6',\n",
       " 'OCC7',\n",
       " 'OCC8',\n",
       " 'OCC9',\n",
       " 'OCC10',\n",
       " 'OCC11',\n",
       " 'OCC12',\n",
       " 'OCC13',\n",
       " 'EIC1',\n",
       " 'EIC2',\n",
       " 'EIC3',\n",
       " 'EIC4',\n",
       " 'EIC5',\n",
       " 'EIC6',\n",
       " 'EIC7',\n",
       " 'EIC8',\n",
       " 'EIC9',\n",
       " 'EIC10',\n",
       " 'EIC11',\n",
       " 'EIC12',\n",
       " 'EIC13',\n",
       " 'EIC14',\n",
       " 'EIC15',\n",
       " 'EIC16',\n",
       " 'OEDC1',\n",
       " 'OEDC2',\n",
       " 'OEDC3',\n",
       " 'OEDC4',\n",
       " 'OEDC5',\n",
       " 'OEDC6',\n",
       " 'OEDC7',\n",
       " 'EC1',\n",
       " 'EC2',\n",
       " 'EC3',\n",
       " 'EC4',\n",
       " 'EC5',\n",
       " 'EC6',\n",
       " 'EC7',\n",
       " 'EC8',\n",
       " 'SEC1',\n",
       " 'SEC2',\n",
       " 'SEC3',\n",
       " 'SEC4',\n",
       " 'SEC5',\n",
       " 'AFC1',\n",
       " 'AFC2',\n",
       " 'AFC3',\n",
       " 'AFC4',\n",
       " 'AFC5',\n",
       " 'AFC6',\n",
       " 'VC1',\n",
       " 'VC2',\n",
       " 'VC3',\n",
       " 'VC4',\n",
       " 'ANC1',\n",
       " 'ANC2',\n",
       " 'ANC3',\n",
       " 'ANC4',\n",
       " 'ANC5',\n",
       " 'ANC6',\n",
       " 'ANC7',\n",
       " 'ANC8',\n",
       " 'ANC9',\n",
       " 'ANC10',\n",
       " 'ANC11',\n",
       " 'ANC12',\n",
       " 'ANC13',\n",
       " 'ANC14',\n",
       " 'ANC15',\n",
       " 'POBC1',\n",
       " 'POBC2',\n",
       " 'LSC1',\n",
       " 'LSC2',\n",
       " 'LSC3',\n",
       " 'LSC4',\n",
       " 'VOC1',\n",
       " 'VOC2',\n",
       " 'VOC3',\n",
       " 'HC1',\n",
       " 'HC2',\n",
       " 'HC3',\n",
       " 'HC4',\n",
       " 'HC5',\n",
       " 'HC6',\n",
       " 'HC7',\n",
       " 'HC8',\n",
       " 'HC9',\n",
       " 'HC10',\n",
       " 'HC11',\n",
       " 'HC12',\n",
       " 'HC13',\n",
       " 'HC14',\n",
       " 'HC15',\n",
       " 'HC16',\n",
       " 'HC17',\n",
       " 'HC18',\n",
       " 'HC19',\n",
       " 'HC20',\n",
       " 'HC21',\n",
       " 'MHUC1',\n",
       " 'MHUC2',\n",
       " 'AC1',\n",
       " 'AC2',\n",
       " 'ADATE_2',\n",
       " 'ADATE_3',\n",
       " 'ADATE_4',\n",
       " 'ADATE_5',\n",
       " 'ADATE_6',\n",
       " 'ADATE_7',\n",
       " 'ADATE_8',\n",
       " 'ADATE_9',\n",
       " 'ADATE_10',\n",
       " 'ADATE_11',\n",
       " 'ADATE_12',\n",
       " 'ADATE_13',\n",
       " 'ADATE_14',\n",
       " 'ADATE_15',\n",
       " 'ADATE_16',\n",
       " 'ADATE_17',\n",
       " 'ADATE_18',\n",
       " 'ADATE_19',\n",
       " 'ADATE_20',\n",
       " 'ADATE_21',\n",
       " 'ADATE_22',\n",
       " 'ADATE_23',\n",
       " 'ADATE_24',\n",
       " 'CARDPROM',\n",
       " 'MAXADATE',\n",
       " 'NUMPROM',\n",
       " 'CARDPM12',\n",
       " 'NUMPRM12',\n",
       " 'RDATE_3',\n",
       " 'RDATE_4',\n",
       " 'RDATE_5',\n",
       " 'RDATE_6',\n",
       " 'RDATE_7',\n",
       " 'RDATE_8',\n",
       " 'RDATE_9',\n",
       " 'RDATE_10',\n",
       " 'RDATE_11',\n",
       " 'RDATE_12',\n",
       " 'RDATE_13',\n",
       " 'RDATE_14',\n",
       " 'RDATE_15',\n",
       " 'RDATE_16',\n",
       " 'RDATE_17',\n",
       " 'RDATE_18',\n",
       " 'RDATE_19',\n",
       " 'RDATE_20',\n",
       " 'RDATE_21',\n",
       " 'RDATE_22',\n",
       " 'RDATE_23',\n",
       " 'RDATE_24',\n",
       " 'RAMNT_3',\n",
       " 'RAMNT_4',\n",
       " 'RAMNT_5',\n",
       " 'RAMNT_6',\n",
       " 'RAMNT_7',\n",
       " 'RAMNT_8',\n",
       " 'RAMNT_9',\n",
       " 'RAMNT_10',\n",
       " 'RAMNT_11',\n",
       " 'RAMNT_12',\n",
       " 'RAMNT_13',\n",
       " 'RAMNT_14',\n",
       " 'RAMNT_15',\n",
       " 'RAMNT_16',\n",
       " 'RAMNT_17',\n",
       " 'RAMNT_18',\n",
       " 'RAMNT_19',\n",
       " 'RAMNT_20',\n",
       " 'RAMNT_21',\n",
       " 'RAMNT_22',\n",
       " 'RAMNT_23',\n",
       " 'RAMNT_24',\n",
       " 'RAMNTALL',\n",
       " 'NGIFTALL',\n",
       " 'CARDGIFT',\n",
       " 'MINRAMNT',\n",
       " 'MINRDATE',\n",
       " 'MAXRAMNT',\n",
       " 'MAXRDATE',\n",
       " 'LASTGIFT',\n",
       " 'LASTDATE',\n",
       " 'FISTDATE',\n",
       " 'NEXTDATE',\n",
       " 'TIMELAG',\n",
       " 'AVGGIFT',\n",
       " 'CONTROLN',\n",
       " 'TARGET_B',\n",
       " 'TARGET_D',\n",
       " 'HPHONE_D',\n",
       " 'RFA_2F',\n",
       " 'CLUSTER2']"
      ]
     },
     "execution_count": 6,
     "metadata": {},
     "output_type": "execute_result"
    }
   ],
   "source": [
    "list(numerical.columns)"
   ]
  },
  {
   "cell_type": "code",
   "execution_count": 7,
   "id": "76b56cac",
   "metadata": {},
   "outputs": [
    {
     "data": {
      "text/plain": [
       "132"
      ]
     },
     "execution_count": 7,
     "metadata": {},
     "output_type": "execute_result"
    }
   ],
   "source": [
    "categorical['GEOCODE2'].isna().sum()"
   ]
  },
  {
   "cell_type": "code",
   "execution_count": 8,
   "id": "65203c11",
   "metadata": {},
   "outputs": [],
   "source": [
    "ml = list(categorical[categorical['GEOCODE2'].notna()].index)\n",
    "categorical = categorical.loc[ml,:]\n",
    "numerical = numerical.loc[ml,:]"
   ]
  },
  {
   "cell_type": "code",
   "execution_count": 9,
   "id": "23be3eae",
   "metadata": {},
   "outputs": [
    {
     "data": {
      "text/plain": [
       "(95280, 407)"
      ]
     },
     "execution_count": 9,
     "metadata": {},
     "output_type": "execute_result"
    }
   ],
   "source": [
    "numerical.shape"
   ]
  },
  {
   "cell_type": "code",
   "execution_count": 10,
   "id": "b6d45e22",
   "metadata": {},
   "outputs": [
    {
     "data": {
      "text/plain": [
       "44632"
      ]
     },
     "execution_count": 10,
     "metadata": {},
     "output_type": "execute_result"
    }
   ],
   "source": [
    "numerical['WEALTH1'].isna().sum()"
   ]
  },
  {
   "cell_type": "code",
   "execution_count": 11,
   "id": "f010aae9",
   "metadata": {},
   "outputs": [
    {
     "data": {
      "text/plain": [
       "count    50648.000000\n",
       "mean         5.345601\n",
       "std          2.742374\n",
       "min          0.000000\n",
       "25%          3.000000\n",
       "50%          6.000000\n",
       "75%          8.000000\n",
       "max          9.000000\n",
       "Name: WEALTH1, dtype: float64"
      ]
     },
     "execution_count": 11,
     "metadata": {},
     "output_type": "execute_result"
    }
   ],
   "source": [
    "numerical['WEALTH1'].describe()"
   ]
  },
  {
   "cell_type": "code",
   "execution_count": 12,
   "id": "9978c89d",
   "metadata": {},
   "outputs": [
    {
     "data": {
      "text/plain": [
       "9.0    7580\n",
       "8.0    6785\n",
       "7.0    6196\n",
       "6.0    5823\n",
       "5.0    5277\n",
       "4.0    4808\n",
       "3.0    4233\n",
       "2.0    4083\n",
       "1.0    3452\n",
       "0.0    2411\n",
       "Name: WEALTH1, dtype: int64"
      ]
     },
     "execution_count": 12,
     "metadata": {},
     "output_type": "execute_result"
    }
   ],
   "source": [
    "numerical['WEALTH1'].value_counts()"
   ]
  },
  {
   "cell_type": "code",
   "execution_count": 13,
   "id": "26e5c2e0",
   "metadata": {},
   "outputs": [
    {
     "data": {
      "text/plain": [
       "0        NaN\n",
       "1        9.0\n",
       "2        1.0\n",
       "3        4.0\n",
       "4        2.0\n",
       "        ... \n",
       "95407    NaN\n",
       "95408    9.0\n",
       "95409    NaN\n",
       "95410    NaN\n",
       "95411    8.0\n",
       "Name: WEALTH1, Length: 95280, dtype: float64"
      ]
     },
     "execution_count": 13,
     "metadata": {},
     "output_type": "execute_result"
    }
   ],
   "source": [
    "numerical['WEALTH1']"
   ]
  },
  {
   "cell_type": "code",
   "execution_count": 14,
   "id": "2e54be6a",
   "metadata": {},
   "outputs": [],
   "source": [
    "import seaborn as sns\n",
    "\n",
    "correlation_matrix = numerical.corr()"
   ]
  },
  {
   "cell_type": "code",
   "execution_count": 15,
   "id": "ff0b9228",
   "metadata": {},
   "outputs": [
    {
     "data": {
      "text/plain": [
       "WEALTH1    1.000000\n",
       "WEALTH2    0.869377\n",
       "IC4        0.720377\n",
       "IC2        0.710833\n",
       "IC3        0.702395\n",
       "IC1        0.677800\n",
       "IC10       0.626220\n",
       "IC19       0.622989\n",
       "EC7        0.601073\n",
       "IC20       0.587616\n",
       "Name: WEALTH1, dtype: float64"
      ]
     },
     "execution_count": 15,
     "metadata": {},
     "output_type": "execute_result"
    }
   ],
   "source": [
    "correlation_with_target = correlation_matrix['WEALTH1'].sort_values(ascending=False)\n",
    "correlation_with_target.head(10)"
   ]
  },
  {
   "cell_type": "code",
   "execution_count": 16,
   "id": "a2c8c2a9",
   "metadata": {},
   "outputs": [],
   "source": [
    "from sklearn.impute import KNNImputer\n",
    "\n",
    "features = ['WEALTH1', 'WEALTH2', 'IC4', 'IC2', 'IC3', 'IC1']\n",
    "\n",
    "num_data = numerical[features]\n",
    "\n",
    "imputer = KNNImputer(n_neighbors=5) \n",
    "\n",
    "imputed_data = imputer.fit_transform(num_data)"
   ]
  },
  {
   "cell_type": "code",
   "execution_count": 17,
   "id": "b6ddabad",
   "metadata": {},
   "outputs": [],
   "source": [
    "imputed_df = pd.DataFrame(imputed_data, columns=features)"
   ]
  },
  {
   "cell_type": "code",
   "execution_count": 18,
   "id": "3ecf9ce9",
   "metadata": {},
   "outputs": [
    {
     "data": {
      "text/plain": [
       "0"
      ]
     },
     "execution_count": 18,
     "metadata": {},
     "output_type": "execute_result"
    }
   ],
   "source": [
    "imputed_df['WEALTH1'].isna().sum()"
   ]
  },
  {
   "cell_type": "code",
   "execution_count": 19,
   "id": "cec3fa37",
   "metadata": {},
   "outputs": [
    {
     "data": {
      "text/plain": [
       "9.0    9368\n",
       "8.0    7912\n",
       "7.0    7268\n",
       "6.0    6990\n",
       "5.0    6394\n",
       "4.0    5962\n",
       "3.0    5326\n",
       "2.0    4993\n",
       "1.0    3998\n",
       "0.0    2847\n",
       "3.6    1645\n",
       "4.8    1168\n",
       "3.2    1138\n",
       "5.8    1134\n",
       "6.2    1110\n",
       "4.2    1110\n",
       "6.8    1104\n",
       "5.2    1097\n",
       "7.4    1096\n",
       "7.2    1096\n",
       "4.4    1082\n",
       "6.6    1079\n",
       "4.6    1070\n",
       "3.4    1068\n",
       "2.8    1060\n",
       "3.8    1059\n",
       "2.6    1057\n",
       "6.4    1052\n",
       "5.4    1048\n",
       "7.8    1027\n",
       "5.6    1022\n",
       "2.4    1016\n",
       "2.2     981\n",
       "7.6     961\n",
       "1.8     912\n",
       "8.2     880\n",
       "1.6     808\n",
       "8.8     780\n",
       "8.4     780\n",
       "8.6     755\n",
       "1.4     737\n",
       "1.2     635\n",
       "0.8     535\n",
       "0.4     403\n",
       "0.6     400\n",
       "0.2     317\n",
       "Name: WEALTH1, dtype: int64"
      ]
     },
     "execution_count": 19,
     "metadata": {},
     "output_type": "execute_result"
    }
   ],
   "source": [
    "imputed_df['WEALTH1'].value_counts()"
   ]
  },
  {
   "cell_type": "code",
   "execution_count": 20,
   "id": "04f098d8",
   "metadata": {},
   "outputs": [
    {
     "data": {
      "text/plain": [
       "0"
      ]
     },
     "execution_count": 20,
     "metadata": {},
     "output_type": "execute_result"
    }
   ],
   "source": [
    "numerical['ADI'].isna().sum()"
   ]
  },
  {
   "cell_type": "code",
   "execution_count": 21,
   "id": "40b8c1b7",
   "metadata": {},
   "outputs": [
    {
     "data": {
      "text/plain": [
       "<AxesSubplot:>"
      ]
     },
     "execution_count": 21,
     "metadata": {},
     "output_type": "execute_result"
    },
    {
     "data": {
      "image/png": "[encoded data removed]",
      "text/plain": [
       "<Figure size 640x480 with 1 Axes>"
      ]
     },
     "metadata": {},
     "output_type": "display_data"
    }
   ],
   "source": [
    "numerical['ADI'].hist()"
   ]
  },
  {
   "cell_type": "code",
   "execution_count": 22,
   "id": "b5588d22",
   "metadata": {},
   "outputs": [
    {
     "name": "stdout",
     "output_type": "stream",
     "text": [
      "13.0     7296\n",
      "51.0     4622\n",
      "65.0     3765\n",
      "57.0     2836\n",
      "105.0    2617\n",
      "         ... \n",
      "651.0       1\n",
      "103.0       1\n",
      "601.0       1\n",
      "161.0       1\n",
      "147.0       1\n",
      "Name: ADI, Length: 204, dtype: int64\n"
     ]
    }
   ],
   "source": [
    "print(numerical['ADI'].value_counts())"
   ]
  },
  {
   "cell_type": "code",
   "execution_count": 30,
   "id": "b001c0a8",
   "metadata": {},
   "outputs": [],
   "source": [
    "from sklearn.preprocessing import PowerTransformer\n",
    "\n",
    "pt = PowerTransformer()\n",
    "\n",
    "numerical['ADI'] = pt.fit_transform(numerical[['ADI']])\n"
   ]
  },
  {
   "cell_type": "code",
   "execution_count": 31,
   "id": "beadde7d",
   "metadata": {},
   "outputs": [
    {
     "data": {
      "text/plain": [
       "<AxesSubplot:>"
      ]
     },
     "execution_count": 31,
     "metadata": {},
     "output_type": "execute_result"
    },
    {
     "data": {
      "image/png": "[encoded data removed]",
      "text/plain": [
       "<Figure size 640x480 with 1 Axes>"
      ]
     },
     "metadata": {},
     "output_type": "display_data"
    }
   ],
   "source": [
    "numerical['ADI'].hist()"
   ]
  },
  {
   "cell_type": "code",
   "execution_count": 23,
   "id": "e9f8e8be",
   "metadata": {},
   "outputs": [
    {
     "data": {
      "text/plain": [
       "0"
      ]
     },
     "execution_count": 23,
     "metadata": {},
     "output_type": "execute_result"
    }
   ],
   "source": [
    "numerical['DMA'].isna().sum()"
   ]
  },
  {
   "cell_type": "code",
   "execution_count": 24,
   "id": "30fe118c",
   "metadata": {},
   "outputs": [
    {
     "data": {
      "text/plain": [
       "<AxesSubplot:>"
      ]
     },
     "execution_count": 24,
     "metadata": {},
     "output_type": "execute_result"
    },
    {
     "data": {
      "image/png": "[encoded data removed]",
      "text/plain": [
       "<Figure size 640x480 with 1 Axes>"
      ]
     },
     "metadata": {},
     "output_type": "display_data"
    }
   ],
   "source": [
    "numerical['DMA'].hist()"
   ]
  },
  {
   "cell_type": "code",
   "execution_count": 25,
   "id": "f4f7f15c",
   "metadata": {},
   "outputs": [
    {
     "data": {
      "text/plain": [
       "[7296,\n",
       " 4632,\n",
       " 3765,\n",
       " 2839,\n",
       " 2588,\n",
       " 2222,\n",
       " 2079,\n",
       " 2009,\n",
       " 1847,\n",
       " 1780,\n",
       " 1772,\n",
       " 1717,\n",
       " 1651,\n",
       " 1647,\n",
       " 1638,\n",
       " 1583,\n",
       " 1566,\n",
       " 1472,\n",
       " 1316,\n",
       " 1175,\n",
       " 1127,\n",
       " 1085,\n",
       " 1073,\n",
       " 1000,\n",
       " 993,\n",
       " 955,\n",
       " 917,\n",
       " 863,\n",
       " 813,\n",
       " 788,\n",
       " 773,\n",
       " 754,\n",
       " 690,\n",
       " 661,\n",
       " 656,\n",
       " 645,\n",
       " 641,\n",
       " 640,\n",
       " 635,\n",
       " 611,\n",
       " 597,\n",
       " 588,\n",
       " 582,\n",
       " 567,\n",
       " 565,\n",
       " 564,\n",
       " 548,\n",
       " 547,\n",
       " 542,\n",
       " 512,\n",
       " 511,\n",
       " 501,\n",
       " 488,\n",
       " 481,\n",
       " 449,\n",
       " 436,\n",
       " 435,\n",
       " 424,\n",
       " 422,\n",
       " 414,\n",
       " 413,\n",
       " 403,\n",
       " 397,\n",
       " 394,\n",
       " 387,\n",
       " 387,\n",
       " 386,\n",
       " 384,\n",
       " 363,\n",
       " 363,\n",
       " 363,\n",
       " 356,\n",
       " 345,\n",
       " 343,\n",
       " 337,\n",
       " 330,\n",
       " 327,\n",
       " 324,\n",
       " 320,\n",
       " 320,\n",
       " 312,\n",
       " 308,\n",
       " 305,\n",
       " 302,\n",
       " 301,\n",
       " 290,\n",
       " 288,\n",
       " 286,\n",
       " 283,\n",
       " 278,\n",
       " 273,\n",
       " 271,\n",
       " 269,\n",
       " 266,\n",
       " 259,\n",
       " 253,\n",
       " 250,\n",
       " 247,\n",
       " 245,\n",
       " 245,\n",
       " 244,\n",
       " 240,\n",
       " 240,\n",
       " 229,\n",
       " 227,\n",
       " 221,\n",
       " 217,\n",
       " 216,\n",
       " 215,\n",
       " 214,\n",
       " 205,\n",
       " 204,\n",
       " 202,\n",
       " 199,\n",
       " 198,\n",
       " 192,\n",
       " 187,\n",
       " 181,\n",
       " 181,\n",
       " 176,\n",
       " 175,\n",
       " 169,\n",
       " 157,\n",
       " 156,\n",
       " 150,\n",
       " 148,\n",
       " 146,\n",
       " 142,\n",
       " 141,\n",
       " 140,\n",
       " 138,\n",
       " 135,\n",
       " 128,\n",
       " 128,\n",
       " 125,\n",
       " 124,\n",
       " 122,\n",
       " 118,\n",
       " 117,\n",
       " 113,\n",
       " 108,\n",
       " 107,\n",
       " 104,\n",
       " 97,\n",
       " 93,\n",
       " 91,\n",
       " 87,\n",
       " 81,\n",
       " 80,\n",
       " 80,\n",
       " 76,\n",
       " 73,\n",
       " 72,\n",
       " 71,\n",
       " 71,\n",
       " 68,\n",
       " 67,\n",
       " 66,\n",
       " 66,\n",
       " 64,\n",
       " 64,\n",
       " 61,\n",
       " 58,\n",
       " 58,\n",
       " 56,\n",
       " 49,\n",
       " 40,\n",
       " 38,\n",
       " 38,\n",
       " 37,\n",
       " 36,\n",
       " 35,\n",
       " 29,\n",
       " 28,\n",
       " 25,\n",
       " 23,\n",
       " 18,\n",
       " 13,\n",
       " 13,\n",
       " 11,\n",
       " 9,\n",
       " 8,\n",
       " 8,\n",
       " 8,\n",
       " 7,\n",
       " 7,\n",
       " 6,\n",
       " 6,\n",
       " 5,\n",
       " 5,\n",
       " 5,\n",
       " 4,\n",
       " 4,\n",
       " 4,\n",
       " 3,\n",
       " 3,\n",
       " 3,\n",
       " 2,\n",
       " 2,\n",
       " 2,\n",
       " 2,\n",
       " 1,\n",
       " 1,\n",
       " 1,\n",
       " 1,\n",
       " 1]"
      ]
     },
     "execution_count": 25,
     "metadata": {},
     "output_type": "execute_result"
    }
   ],
   "source": [
    "list(numerical['DMA'].value_counts())"
   ]
  },
  {
   "cell_type": "code",
   "execution_count": 32,
   "id": "1d4ea730",
   "metadata": {},
   "outputs": [],
   "source": [
    "pt = PowerTransformer()\n",
    "\n",
    "numerical['DMA'] = pt.fit_transform(numerical[['DMA']])\n"
   ]
  },
  {
   "cell_type": "code",
   "execution_count": 33,
   "id": "4d8cdba8",
   "metadata": {},
   "outputs": [
    {
     "data": {
      "text/plain": [
       "<AxesSubplot:>"
      ]
     },
     "execution_count": 33,
     "metadata": {},
     "output_type": "execute_result"
    },
    {
     "data": {
      "image/png": "[encoded data removed]",
      "text/plain": [
       "<Figure size 640x480 with 1 Axes>"
      ]
     },
     "metadata": {},
     "output_type": "display_data"
    }
   ],
   "source": [
    "numerical['DMA'].hist()"
   ]
  },
  {
   "cell_type": "code",
   "execution_count": 34,
   "id": "c181b2a1",
   "metadata": {},
   "outputs": [],
   "source": [
    "Q1 = numerical['DMA'].quantile(0.25)\n",
    "Q3 = numerical['DMA'].quantile(0.75)\n",
    "IQR = Q3 - Q1\n",
    "\n",
    "lower_bound = Q1 - 1.5 * IQR\n",
    "upper_bound = Q3 + 1.5 * IQR\n",
    "\n",
    "numerical = numerical[(numerical['DMA'] >= lower_bound) & (numerical['DMA'] <= upper_bound)]\n"
   ]
  },
  {
   "cell_type": "code",
   "execution_count": 35,
   "id": "1e24f58c",
   "metadata": {},
   "outputs": [
    {
     "data": {
      "text/plain": [
       "<AxesSubplot:>"
      ]
     },
     "execution_count": 35,
     "metadata": {},
     "output_type": "execute_result"
    },
    {
     "data": {
      "image/png": "[encoded data removed]",
      "text/plain": [
       "<Figure size 640x480 with 1 Axes>"
      ]
     },
     "metadata": {},
     "output_type": "display_data"
    }
   ],
   "source": [
    "numerical['DMA'].hist()"
   ]
  },
  {
   "cell_type": "code",
   "execution_count": 26,
   "id": "a6721681",
   "metadata": {},
   "outputs": [
    {
     "data": {
      "text/plain": [
       "0"
      ]
     },
     "execution_count": 26,
     "metadata": {},
     "output_type": "execute_result"
    }
   ],
   "source": [
    "numerical['MSA'].isna().sum()"
   ]
  },
  {
   "cell_type": "code",
   "execution_count": 27,
   "id": "33d6586c",
   "metadata": {},
   "outputs": [
    {
     "data": {
      "text/plain": [
       "<AxesSubplot:>"
      ]
     },
     "execution_count": 27,
     "metadata": {},
     "output_type": "execute_result"
    },
    {
     "data": {
      "image/png": "[encoded data removed]",
      "text/plain": [
       "<Figure size 640x480 with 1 Axes>"
      ]
     },
     "metadata": {},
     "output_type": "display_data"
    }
   ],
   "source": [
    "numerical['MSA'].hist()"
   ]
  },
  {
   "cell_type": "code",
   "execution_count": 44,
   "id": "2292b652",
   "metadata": {},
   "outputs": [
    {
     "data": {
      "text/plain": [
       "0.000000    21146\n",
       "0.767852     4606\n",
       "0.527131     4059\n",
       "0.588805     2586\n",
       "0.344915     1685\n",
       "            ...  \n",
       "0.991561        1\n",
       "0.679731        1\n",
       "0.996947        1\n",
       "0.395396        1\n",
       "0.965411        1\n",
       "Name: MSA, Length: 298, dtype: int64"
      ]
     },
     "execution_count": 44,
     "metadata": {},
     "output_type": "execute_result"
    }
   ],
   "source": [
    "numerical['MSA'].value_counts()"
   ]
  },
  {
   "cell_type": "code",
   "execution_count": 45,
   "id": "71965adc",
   "metadata": {},
   "outputs": [],
   "source": [
    "pt = PowerTransformer()\n",
    "\n",
    "numerical['MSA'] = pt.fit_transform(numerical[['MSA']])"
   ]
  },
  {
   "cell_type": "code",
   "execution_count": 48,
   "id": "d5af65ca",
   "metadata": {},
   "outputs": [],
   "source": [
    "Q1 = numerical['MSA'].quantile(0.25)\n",
    "Q3 = numerical['MSA'].quantile(0.75)\n",
    "IQR = Q3 - Q1\n",
    "\n",
    "lower_bound = Q1 - 1.5 * IQR\n",
    "upper_bound = Q3 + 1.5 * IQR\n",
    "\n",
    "numerical = numerical[(numerical['MSA'] >= lower_bound) & (numerical['MSA'] <= upper_bound)]"
   ]
  },
  {
   "cell_type": "code",
   "execution_count": 49,
   "id": "8b2a3812",
   "metadata": {},
   "outputs": [
    {
     "data": {
      "text/plain": [
       "<AxesSubplot:>"
      ]
     },
     "execution_count": 49,
     "metadata": {},
     "output_type": "execute_result"
    },
    {
     "data": {
      "image/png": "[encoded data removed]",
      "text/plain": [
       "<Figure size 640x480 with 1 Axes>"
      ]
     },
     "metadata": {},
     "output_type": "display_data"
    }
   ],
   "source": [
    "numerical['MSA'].hist()"
   ]
  },
  {
   "cell_type": "code",
   "execution_count": null,
   "id": "0c3a1a3b",
   "metadata": {},
   "outputs": [],
   "source": []
  }
 ],
 "metadata": {
  "kernelspec": {
   "display_name": "Python 3 (ipykernel)",
   "language": "python",
   "name": "python3"
  },
  "language_info": {
   "codemirror_mode": {
    "name": "ipython",
    "version": 3
   },
   "file_extension": ".py",
   "mimetype": "text/x-python",
   "name": "python",
   "nbconvert_exporter": "python",
   "pygments_lexer": "ipython3",
   "version": "3.9.13"
  }
 },
 "nbformat": 4,
 "nbformat_minor": 5
}
